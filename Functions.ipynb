{
  "nbformat": 4,
  "nbformat_minor": 0,
  "metadata": {
    "colab": {
      "provenance": []
    },
    "kernelspec": {
      "name": "python3",
      "display_name": "Python 3"
    },
    "language_info": {
      "name": "python"
    }
  },
  "cells": [
    {
      "cell_type": "markdown",
      "source": [
        "#FUNCTIONS"
      ],
      "metadata": {
        "id": "IY3wVPrh6JAS"
      }
    },
    {
      "cell_type": "markdown",
      "source": [
        "1. What is the difference between a function and a method in Python?\n",
        "\n",
        "    ans. Function:A function is a block of organized, reusable code that performs a specific task.\n",
        "    It's defined independently and can be called directly.\n",
        "    Functions are not associated with any particular object or class.\n",
        "\n",
        "    Method:- A method is a function that is associated with an object or a class.\n",
        "    It's defined within a class and operates on the instance of that class (or the class itself).\n",
        "    Methods have access to the object's data (attributes).\n"
      ],
      "metadata": {
        "id": "Onlzz0Ea6N4M"
      }
    },
    {
      "cell_type": "markdown",
      "source": [
        "2.  Explain the concept of function arguments and parameters in Python?\n",
        "    \n",
        "    In Python, function arguments and parameters are fundamental concepts that determine how data is passed into and used within functions. While often used interchangeably, they have distinct meanings\n",
        "\n",
        "    Parameters are the variables listed inside the parentheses in the function definition. They act as placeholders for the values that1 will be passed into the function when it's called.\n",
        "\n",
        "    Arguments are the actual values that are passed to the function when it's called.They are the real data that replaces the parameter placeholders.\n",
        "\n",
        "    def add(x, y):  # x and y are parameters\n",
        "    return x + y\n",
        "    result = add(5, 3)  # 5 and 3 are arguments\n",
        "    print(result)  # Output: 8\n"
      ],
      "metadata": {
        "id": "q7NJfeB96nca"
      }
    },
    {
      "cell_type": "markdown",
      "source": [
        " 3. What are the different ways to define and call a function in Python?\n",
        "\n",
        "    Python offers several ways to define and call functions, providing flexibility for various programming needs.\n",
        "\n",
        "    Defining function --\n",
        "\n",
        "    Standard Function Definition (def):\n",
        "    This is the most common way to define a function.\n",
        "    It uses the def keyword, followed by the function name, parentheses containing parameters (if any), and a colon.\n",
        "\n",
        "    Lambda Functions (Anonymous Functions):\n",
        "    Lambda functions are small, anonymous functions defined using the lambda keyword.\n",
        "    They can have any number of arguments but can only contain a single expression.\n",
        "    They are often used for simple, one-time operations\n",
        "\n",
        "    2. Calling Functions:\n",
        "\n",
        "    Direct Function Call:\n",
        "    This is the standard way to call a function.\n",
        "\n",
        "    Calling Lambda Functions:\n",
        "    Lambda functions are called like regular functions, using the variable name assigned to them.\n",
        "\n",
        "    Calling Functions within Other Functions:\n",
        "\n",
        "    Calling functions within methods:"
      ],
      "metadata": {
        "id": "J9RgobPI7b65"
      }
    },
    {
      "cell_type": "markdown",
      "source": [
        "4.  What is the purpose of the `return` statement in a Python function?\n",
        "\n",
        "    Returning a Value:\n",
        "    The primary purpose of return is to send a value back to the caller of the function.This value can be of any data type: integers, floats, strings, lists, dictionaries, tuples, or even other functions.\n",
        "\n",
        "    Terminating Function Execution:\n",
        "\n",
        "    When a return statement is encountered, the function's execution immediately stops.Any code that follows the return statement within the function will not be executed.This allows you to control the flow of execution and exit the function at a specific point.\n",
        "\n",
        "    Returning Multiple Values (as a Tuple):\n",
        "\n",
        "def add(x, y):\n",
        "return x + y  # Returns the sum of x and y\n",
        "result = add(5, 3)\n",
        "print(result)"
      ],
      "metadata": {
        "id": "fs-UTpQu8XuL"
      }
    },
    {
      "cell_type": "markdown",
      "source": [
        "5. What are iterators in Python and how do they differ from iterables?\n",
        "\n",
        "  An iterator is an object that represents a stream of data.\n",
        "It implements the iterator protocol, which consists of the __iter__() and __next__() methods.\n",
        "The __next__() method returns the next element in the sequence.\n",
        "When there are no more elements, __next__() raises a StopIteration exception.\n",
        "\n",
        "      key difference\n",
        "\n",
        "      1.Iterables provide data that can be iterated over.   Iterators provide a mechanism to traverse that data.\n",
        "      \n",
        "      2.Iterables do not track their position.Iterators maintain state and remember their position."
      ],
      "metadata": {
        "id": "thWnnjZi9Hnm"
      }
    },
    {
      "cell_type": "code",
      "source": [
        "my_list = [1, 2, 3]\n",
        "my_iterator = iter(my_list)  # Creating an iterator from the list\n",
        "print(next(my_iterator))  # Output: 1\n",
        "print(next(my_iterator))  # Output: 2\n",
        "print(next(my_iterator))  # Output: 3\n",
        "# next(my_iterator) would now raise StopIteration"
      ],
      "metadata": {
        "id": "9e811Dvs-LOu"
      },
      "execution_count": null,
      "outputs": []
    },
    {
      "cell_type": "markdown",
      "source": [
        "6.  Explain the concept of generators in Python and how they are defined?\n",
        "\n",
        "    Generators in Python are a powerful and memory-efficient way to create iterators. They allow you to define functions that behave like iterators, yielding values one at a time, instead of storing an entire sequence in memory.\n",
        "\n",
        "    How to Define a Generator:\n",
        "    A generator can be defined using a function with the yield statement. Here’s an example:"
      ],
      "metadata": {
        "id": "L1lKgelb-Rd6"
      }
    },
    {
      "cell_type": "code",
      "source": [
        "def count_up_to(max):\n",
        "    count = 1\n",
        "    while count <= max:\n",
        "        yield count\n",
        "        count += 1\n",
        "\n",
        "# Create a generator object\n",
        "counter = count_up_to(5)\n",
        "\n",
        "# Iterate over the generator\n",
        "for num in counter:\n",
        "    print(num)"
      ],
      "metadata": {
        "id": "_-FSsJ26-wU9"
      },
      "execution_count": null,
      "outputs": []
    },
    {
      "cell_type": "markdown",
      "source": [
        "7. What are the advantages of using generators over regular functions?\n",
        "\n",
        "    Generators in Python offer several significant advantages over regular functions, primarily related to memory efficiency and performance\n",
        "\n",
        "    1.Memory Efficiency\n",
        "    \n",
        "    2.Improved Performance:\n",
        "\n",
        "    3.Simplified Iterator Creation:\n",
        "\n",
        "    4.Ability to Work with Infinite Sequences:"
      ],
      "metadata": {
        "id": "OXZn1IaR-5i_"
      }
    },
    {
      "cell_type": "markdown",
      "source": [
        "8.  What is a lambda function in Python and when is it typically used?\n",
        "\n",
        "    A lambda function in Python is a small, anonymous function defined using the lambda keyword. Here's a breakdown of its characteristics and typical use cases:\n",
        "\n",
        "    use cases\n",
        "    Lambda functions are particularly useful in situations where you need a small, simple function for a short period and don't want to define a full function using def. Here are common scenarios:\n",
        "\n",
        "    With map(): Apply a function to each item in an iterable.\n",
        "\n",
        "    With filter(): Create a new iterable with items that satisfy a condition.\n",
        "\n",
        "    With sorted(): Provide a custom sorting key."
      ],
      "metadata": {
        "id": "Qea3eHwa_WBO"
      }
    },
    {
      "cell_type": "code",
      "source": [
        "numbers = [1, 2, 3, 4, 5]\n",
        "squared = list(map(lambda x: x**2, numbers))\n",
        "print(squared)\n",
        "\n",
        "numbers = [1, 2, 3, 4, 5, 6]\n",
        "even_numbers = list(filter(lambda x: x % 2 == 0, numbers))\n",
        "print(even_numbers)"
      ],
      "metadata": {
        "id": "Xu-G8UP3_7xY"
      },
      "execution_count": null,
      "outputs": []
    },
    {
      "cell_type": "markdown",
      "source": [
        "9. Explain the purpose and usage of the `map()` function in Python?\n",
        "  \n",
        "  The map() function in Python is a built-in function that applies a given function to each item of an iterable (like a list, tuple, or string) and returns an iterator that yields the results. It's a powerful tool for transforming iterables efficiently.\n",
        "\n",
        "  \n",
        "     Purpose:\n",
        "\n",
        "    Transformation: The primary purpose of map() is to transform each element of an iterable according to a specified function.\n",
        "    Conciseness: It provides a concise way to apply a function to multiple items without writing explicit loops.\n",
        "    Readability: It can often make code more readable by expressing a transformation in a single line."
      ],
      "metadata": {
        "id": "Wm45pK8SAD1a"
      }
    },
    {
      "cell_type": "code",
      "source": [
        "numbers = [1, 2, 3, 4, 5]\n",
        "squared_numbers = list(map(lambda x: x**2, numbers))\n",
        "print(squared_numbers)"
      ],
      "metadata": {
        "id": "I0R6eZtQAbgu"
      },
      "execution_count": null,
      "outputs": []
    },
    {
      "cell_type": "markdown",
      "source": [
        "10. What is the difference between `map()`, `reduce()`, and `filter()` functions in Python?\n",
        "\n",
        "    Key Differences Summarized:\n",
        "    map():-Transforms each element. Returns an iterator of transformed elements.\n",
        "    \n",
        "    filter():- Selects elements based on a condition.Returns an iterator of selected elements.\n",
        "\n",
        "    reduce():-Reduces the iterable to a single value by repeatedly applying a function. Returns a single value.\n",
        "\n",
        "    In essence:\n",
        "    map() changes the elements.\n",
        "    filter() chooses the elements.\n",
        "    reduce() combines the elements."
      ],
      "metadata": {
        "id": "lxDIOqZgAhvW"
      }
    },
    {
      "cell_type": "markdown",
      "source": [
        "11.  Using pen & Paper write the internal mechanism for sum operation using  reduce function on this given list:[47,11,42,13];\n",
        "\n"
      ],
      "metadata": {
        "id": "-Sx23D6CBFeE"
      }
    },
    {
      "cell_type": "markdown",
      "source": [
        "# coding questions"
      ],
      "metadata": {
        "id": "tsGg5RvuBRk5"
      }
    },
    {
      "cell_type": "markdown",
      "source": [
        "1. Write a Python function that takes a list of numbers as input and returns the sum of all even numbers in the list.?"
      ],
      "metadata": {
        "id": "ZKJEtKvnBWK3"
      }
    },
    {
      "cell_type": "code",
      "source": [
        "my_list = [1, 2, 3, 4, 5, 6, 7, 8, 9, 10]\n",
        "even_sum = sum_even_numbers(my_list)\n",
        "print(f\"The sum of even numbers in the list is: {even_sum}\")"
      ],
      "metadata": {
        "colab": {
          "base_uri": "https://localhost:8080/"
        },
        "id": "n44FKMq_BeHm",
        "outputId": "d518b78c-fbea-496d-dd79-6ca7d8900855"
      },
      "execution_count": 4,
      "outputs": [
        {
          "output_type": "stream",
          "name": "stdout",
          "text": [
            "The sum of even numbers in the list is: 30\n"
          ]
        }
      ]
    },
    {
      "cell_type": "markdown",
      "source": [
        "2. Create a Python function that accepts a string and returns the reverse of that string. ?"
      ],
      "metadata": {
        "id": "CMubcQMe7TzI"
      }
    },
    {
      "cell_type": "code",
      "source": [
        "def reverse_string(input_string):\n",
        "  return input_string[::-1]\n",
        "  input_string = \"Hello, world!\"\n",
        "  reversed_string = reverse_string(input_string)\n",
        "  print(f\"The reversed string is: {reversed_string}\")"
      ],
      "metadata": {
        "id": "yHpiF7PiCH4x"
      },
      "execution_count": 7,
      "outputs": []
    },
    {
      "cell_type": "markdown",
      "source": [
        "3.  Implement a Python function that takes a list of integers and returns a new list containing the squares of each number ?"
      ],
      "metadata": {
        "id": "LfZBmKMoCi28"
      }
    },
    {
      "cell_type": "code",
      "source": [
        "def square_numbers(numbers):\n",
        "  squared_list = [num ** 2 for num in numbers]  # List comprehension for efficiency\n",
        "  return squared_list\n",
        "  my_numbers = [1, 2, 3, 4, 5]\n",
        "  squared_numbers = square_numbers(my_numbers)\n",
        "  print(f\"The squared numbers are: {squared_numbers}\")"
      ],
      "metadata": {
        "id": "vsk87M75CpNV"
      },
      "execution_count": 10,
      "outputs": []
    },
    {
      "cell_type": "code",
      "source": [
        "my_list = [1, 2, 3, 4, 5]\n",
        "squared_list = square_numbers(my_list)\n",
        "print(f\"Original list: {my_list}\")\n",
        "print(f\"Squared list: {squared_list}\")"
      ],
      "metadata": {
        "colab": {
          "base_uri": "https://localhost:8080/"
        },
        "id": "-ymdyYef-vqF",
        "outputId": "0e5e651e-6370-4549-e8b6-5d4be9797f1b"
      },
      "execution_count": 11,
      "outputs": [
        {
          "output_type": "stream",
          "name": "stdout",
          "text": [
            "Original list: [1, 2, 3, 4, 5]\n",
            "Squared list: [1, 4, 9, 16, 25]\n"
          ]
        }
      ]
    },
    {
      "cell_type": "markdown",
      "source": [
        "4. Write a Python function that checks if a given number is prime or not from 1 to 200?\n"
      ],
      "metadata": {
        "id": "9Hbs8P05DFd4"
      }
    },
    {
      "cell_type": "code",
      "source": [
        "def is_prime(n):\n",
        "    # Check if number is less than 2\n",
        "    if n < 2:\n",
        "        return False\n",
        "\n",
        "    # Check divisibility from 2 to sqrt(n)\n",
        "    for i in range(2, int(n ** 0.5) + 1):\n",
        "        if n % i == 0:\n",
        "            return False\n",
        "    return True\n",
        "    for num in range(1, 201):\n",
        "        if is_prime(num):\n",
        "            print(num, end=\" \")"
      ],
      "metadata": {
        "id": "gZEXfcTdDL8U"
      },
      "execution_count": 13,
      "outputs": []
    },
    {
      "cell_type": "markdown",
      "source": [
        "5. Create an iterator class in Python that generates the Fibonacci sequence up to a specified number of terms."
      ],
      "metadata": {
        "id": "uDKhI3zjDstm"
      }
    },
    {
      "cell_type": "code",
      "source": [
        "class FibonacciIterator:\n",
        "    \"\"\"\n",
        "    An iterator class that generates the Fibonacci sequence up to a specified number of terms.\n",
        "    \"\"\"\n",
        "\n",
        "    def __init__(self, num_terms):\n",
        "        \"\"\"\n",
        "        Initializes the iterator.\n",
        "\n",
        "        Args:\n",
        "            num_terms: The number of Fibonacci terms to generate.\n",
        "        \"\"\"\n",
        "        self.num_terms = num_terms\n",
        "        self.current_term = 0\n",
        "        self.a, self.b = 0, 1\n",
        "\n",
        "    def __iter__(self):\n",
        "        \"\"\"\n",
        "        Returns the iterator object itself.\n",
        "        \"\"\"\n",
        "        return self\n",
        "\n",
        "    def __next__(self):\n",
        "        \"\"\"\n",
        "        Returns the next Fibonacci number.\n",
        "\n",
        "        Raises:\n",
        "            StopIteration: If the specified number of terms has been reached.\n",
        "        \"\"\"\n",
        "        if self.current_term < self.num_terms:\n",
        "            result = self.a\n",
        "            self.a, self.b = self.b, self.a + self.b\n",
        "            self.current_term += 1\n",
        "            return result\n",
        "        else:\n",
        "            raise StopIteration\n",
        "\n",
        "# Example usage:\n",
        "fib_iter = FibonacciIterator(10)  # Generate 10 Fibonacci terms\n",
        "for num in fib_iter:\n",
        "    print(num)\n",
        "\n",
        "fib_iter2 = FibonacciIterator(0);\n",
        "for num in fib_iter2:\n",
        "    print(num)\n",
        "\n",
        "fib_iter3 = FibonacciIterator(1);\n",
        "for num in fib_iter3:\n",
        "    print(num)\n",
        "\n",
        "fib_iter4 = FibonacciIterator(5);\n",
        "iterator = iter(fib_iter4)\n",
        "print(next(iterator))\n",
        "print(next(iterator))\n",
        "print(next(iterator))\n",
        "print(next(iterator))\n",
        "print(next(iterator))\n",
        "\n",
        ""
      ],
      "metadata": {
        "colab": {
          "base_uri": "https://localhost:8080/"
        },
        "id": "1l7U87QDDw1F",
        "outputId": "88077baa-60ff-423c-8336-2b9735dbea96"
      },
      "execution_count": 19,
      "outputs": [
        {
          "output_type": "stream",
          "name": "stdout",
          "text": [
            "0\n",
            "1\n",
            "1\n",
            "2\n",
            "3\n",
            "5\n",
            "8\n",
            "13\n",
            "21\n",
            "34\n",
            "0\n",
            "0\n",
            "1\n",
            "1\n",
            "2\n",
            "3\n"
          ]
        }
      ]
    },
    {
      "cell_type": "markdown",
      "source": [
        "6. Write a generator function in Python that yields the powers of 2 up to a given exponent."
      ],
      "metadata": {
        "id": "Oen5DEq0FLlg"
      }
    },
    {
      "cell_type": "code",
      "source": [
        "def powers_of_two(exponent):\n",
        "    \"\"\"\n",
        "    Generates powers of 2 up to a given exponent.\n",
        "\n",
        "    Args:\n",
        "        exponent: The maximum exponent.\n",
        "\n",
        "    Yields:\n",
        "        Powers of 2.\n",
        "    \"\"\"\n",
        "    for i in range(exponent + 1):\n",
        "        yield 2 ** i\n",
        "\n",
        "# Example usage:\n",
        "for power in powers_of_two(5):\n",
        "    print(power)  # Output: 1, 2, 4, 8, 16, 32\n",
        "\n",
        "for power in powers_of_two(0):\n",
        "    print(power) #output 1\n",
        "\n",
        "for power in powers_of_two(1):\n",
        "    print(power) #output 1, 2\n",
        "\n",
        "generator = powers_of_two(3)\n",
        "print(next(generator))\n",
        "print(next(generator))\n",
        "print(next(generator))\n",
        "print(next(generator))\n"
      ],
      "metadata": {
        "colab": {
          "base_uri": "https://localhost:8080/"
        },
        "id": "kKXbibKXFFoC",
        "outputId": "015c1013-6fbc-4dbc-8788-bded88c2627a"
      },
      "execution_count": 15,
      "outputs": [
        {
          "output_type": "stream",
          "name": "stdout",
          "text": [
            "1\n",
            "2\n",
            "4\n",
            "8\n",
            "16\n",
            "32\n",
            "1\n",
            "1\n",
            "2\n",
            "1\n",
            "2\n",
            "4\n",
            "8\n"
          ]
        }
      ]
    },
    {
      "cell_type": "markdown",
      "source": [
        "7.  Implement a generator function that reads a file line by line and yields each line as a string."
      ],
      "metadata": {
        "id": "8sFQfJq6FPfQ"
      }
    },
    {
      "cell_type": "code",
      "source": [
        "def read_file_lines(filename):\n",
        "    \"\"\"\n",
        "    Reads a file line by line and yields each line as a string.\n",
        "\n",
        "    Args:\n",
        "        filename: The path to the file.\n",
        "\n",
        "    Yields:\n",
        "        Each line of the file as a string.\n",
        "    \"\"\"\n",
        "    try:\n",
        "        with open(filename, 'r') as file:\n",
        "            for line in file:\n",
        "                yield line.rstrip('\\n')  # Remove trailing newline character\n",
        "    except FileNotFoundError:\n",
        "        yield f\"File not found: {filename}\"\n",
        "\n",
        "# Example usage (assuming you have a file named \"my_file.txt\"):\n",
        "# Create a dummy file for testing.\n",
        "with open(\"my_file.txt\", \"w\") as f:\n",
        "    f.write(\"Line 1\\nLine 2\\nLine 3\")\n",
        "\n",
        "for line in read_file_lines(\"my_file.txt\"):\n",
        "    print(line)\n",
        "\n",
        "for line in read_file_lines(\"non_existent_file.txt\"):\n",
        "    print(line)"
      ],
      "metadata": {
        "colab": {
          "base_uri": "https://localhost:8080/"
        },
        "id": "WOhEskwIFW_Z",
        "outputId": "04550c1e-717c-4692-9a6d-322652917311"
      },
      "execution_count": 16,
      "outputs": [
        {
          "output_type": "stream",
          "name": "stdout",
          "text": [
            "Line 1\n",
            "Line 2\n",
            "Line 3\n",
            "File not found: non_existent_file.txt\n"
          ]
        }
      ]
    },
    {
      "cell_type": "markdown",
      "source": [
        "8. Use a lambda function in Python to sort a list of tuples based on the second element of each tuple."
      ],
      "metadata": {
        "id": "uEj2TTRRFquJ"
      }
    },
    {
      "cell_type": "code",
      "source": [
        "data = [(1, 5), (3, 2), (2, 8), (4, 1)]\n",
        "\n",
        "# Sort the list of tuples based on the second element\n",
        "sorted_data = sorted(data, key=lambda item: item[1])\n",
        "\n",
        "print(sorted_data)  # Output: [(4, 1), (3, 2), (1, 5), (2, 8)]"
      ],
      "metadata": {
        "colab": {
          "base_uri": "https://localhost:8080/"
        },
        "id": "Yax74pYfF1E-",
        "outputId": "456fdd4d-8b94-49f0-d6cb-d6ac791d96cf"
      },
      "execution_count": 17,
      "outputs": [
        {
          "output_type": "stream",
          "name": "stdout",
          "text": [
            "[(4, 1), (3, 2), (1, 5), (2, 8)]\n"
          ]
        }
      ]
    },
    {
      "cell_type": "markdown",
      "source": [
        "9. Write a Python program that uses `map()` to convert a list of temperatures from Celsius to Fahrenheit."
      ],
      "metadata": {
        "id": "Jf59OLu6F6TU"
      }
    },
    {
      "cell_type": "code",
      "source": [
        "def celsius_to_fahrenheit(celsius):\n",
        "    \"\"\"Converts Celsius to Fahrenheit.\"\"\"\n",
        "    return (celsius * 9/5) + 32\n",
        "\n",
        "temperatures_celsius = [0, 10, 20, 30, 100]\n",
        "\n",
        "# Using map() with a named function\n",
        "temperatures_fahrenheit = list(map(celsius_to_fahrenheit, temperatures_celsius))\n",
        "\n",
        "print(\"Celsius:\", temperatures_celsius)\n",
        "print(\"Fahrenheit (named function):\", temperatures_fahrenheit)\n",
        "\n",
        "# Using map() with a lambda function\n",
        "temperatures_fahrenheit_lambda = list(map(lambda c: (c * 9/5) + 32, temperatures_celsius))\n",
        "\n",
        "print(\"Fahrenheit (lambda function):\", temperatures_fahrenheit_lambda)"
      ],
      "metadata": {
        "id": "4sDcH6cxGOUR"
      },
      "execution_count": null,
      "outputs": []
    },
    {
      "cell_type": "markdown",
      "source": [
        "10. Create a Python program that uses `filter()` to remove all the vowels from a given string."
      ],
      "metadata": {
        "id": "bQBBt-ygGSFJ"
      }
    },
    {
      "cell_type": "code",
      "source": [
        "def remove_vowels(input_string):\n",
        "    \"\"\"Removes all vowels from a string using filter().\"\"\"\n",
        "    vowels = \"aeiouAEIOU\"\n",
        "    filtered_chars = filter(lambda char: char not in vowels, input_string)\n",
        "    return \"\".join(filtered_chars)\n",
        "\n",
        "# Example usage:\n",
        "my_string = \"Hello, World!\"\n",
        "result = remove_vowels(my_string)\n",
        "print(f\"Original string: {my_string}\")\n",
        "print(f\"String without vowels: {result}\")  # Output: Hll, Wrld!\n",
        "\n",
        "my_string2 = \"AEIOUaeiou\"\n",
        "result2 = remove_vowels(my_string2)\n",
        "print(f\"Original string: {my_string2}\")\n",
        "print(f\"String without vowels: {result2}\") #output: \"\"\n",
        "\n",
        "my_string3 = \"rhythm\"\n",
        "result3 = remove_vowels(my_string3)\n",
        "print(f\"Original string: {my_string3}\")\n",
        "print(f\"String without vowels: {result3}\") #output: rhythm\n",
        "\n",
        "my_string4 = \"\"\n",
        "result4 = remove_vowels(my_string4)\n",
        "print(f\"Original string: {my_string4}\")\n",
        "print(f\"String without vowels: {result4}\") #output: \"\""
      ],
      "metadata": {
        "id": "_EC-q0O5GgZp"
      },
      "execution_count": null,
      "outputs": []
    },
    {
      "cell_type": "markdown",
      "source": [
        "11.![image.png]()"
      ],
      "metadata": {
        "id": "oicoysm_GlLE"
      }
    },
    {
      "cell_type": "code",
      "source": [
        "data = [\n",
        "    [34587, \"Learning Python, Mark Lutz\", 4, 40.95],\n",
        "    [98762, \"Programming Python, Mark Lutz\", 5, 56.80],\n",
        "    [77226, \"Head First Python, Paul Barry\", 3, 32.95],\n",
        "    [88112, \"Einführung in Python3, Bernd Klein\", 3, 24.99]\n",
        "]\n",
        "\n",
        "result = list(map(lambda order: (order[0], order[2] * order[3] + 10 if order[2] * order[3] < 100 else order[2] * order[3]), data))\n",
        "\n",
        "print(result)"
      ],
      "metadata": {
        "colab": {
          "base_uri": "https://localhost:8080/"
        },
        "id": "_qcSQ5MaHeN0",
        "outputId": "7865ad7c-607c-4def-81ea-062e5cf34b87"
      },
      "execution_count": 18,
      "outputs": [
        {
          "output_type": "stream",
          "name": "stdout",
          "text": [
            "[(34587, 163.8), (98762, 284.0), (77226, 108.85000000000001), (88112, 84.97)]\n"
          ]
        }
      ]
    }
  ]
}